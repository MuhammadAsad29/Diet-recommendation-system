{
 "cells": [
  {
   "cell_type": "code",
   "execution_count": 22,
   "metadata": {
    "colab": {
     "base_uri": "https://localhost:8080/"
    },
    "id": "oaQSP-isHaIb",
    "outputId": "756be6f5-1a33-4336-892e-d9fd2960b348"
   },
   "outputs": [],
   "source": [
    "# !pip install gradio pandas\n",
    "from typing import List, Dict\n",
    "from dataclasses import dataclass\n",
    "import json\n",
    "import random\n",
    "import gradio as gr\n",
    "import pandas as pd"
   ]
  },
  {
   "cell_type": "code",
   "execution_count": 23,
   "metadata": {
    "id": "oyMluwz8Htsy"
   },
   "outputs": [],
   "source": [
    "# Load datasets\n",
    "patient_data = pd.read_csv('diet_recommendations_dataset.csv')\n",
    "food_data = pd.read_csv('food.csv')"
   ]
  },
  {
   "cell_type": "code",
   "execution_count": 24,
   "metadata": {
    "id": "u3AKYBQFH1bx"
   },
   "outputs": [],
   "source": [
    "# Infer dietary tags based on Category and Description\n",
    "def infer_tags(row):\n",
    "    tags = []\n",
    "    category = str(row['Category']).lower()\n",
    "    description = str(row['Description']).lower()"
   ]
  },
  {
   "cell_type": "code",
   "execution_count": 25,
   "metadata": {
    "id": "lRZC8IWyH4lx"
   },
   "outputs": [],
   "source": [
    "# Infer dietary tags based on Category and Description\n",
    "def infer_tags(row):\n",
    "    tags = []\n",
    "    category = str(row['Category']).lower()\n",
    "    description = str(row['Description']).lower()\n",
    "\n",
    "    # Dietary categories\n",
    "    if 'cheese' in category or 'milk' in category or 'cream' in category or 'butter' in category:\n",
    "        tags.append('dairy')\n",
    "    if 'pork' in category or 'beef' in category or 'chicken' in category or 'turkey' in category:\n",
    "        tags.append('meat')\n",
    "    if 'vegetarian' not in tags and 'meat' not in tags and 'dairy' not in tags:\n",
    "        tags.append('vegan')  # Assume vegan if no dairy or meat\n",
    "    if 'meat' not in tags:\n",
    "        tags.append('vegetarian')  # Non-meat is vegetarian\n",
    "\n",
    "    # Allergies\n",
    "    if 'peanut' in description:\n",
    "        tags.append('peanuts')\n",
    "    if 'soy' in description:\n",
    "        tags.append('soy')\n",
    "\n",
    "    # Diet recommendations\n",
    "    if row['Data.Major Minerals.Sodium'] < 100:  # Low sodium threshold\n",
    "        tags.append('low_sodium')\n",
    "    if row['Data.Carbohydrate'] < 10:  # Low carb threshold\n",
    "        tags.append('low_carb')\n",
    "    if row['Data.Sugar Total'] < 5:  # Low sugar for diabetes\n",
    "        tags.append('low_sugar')\n",
    "\n",
    "    return tags"
   ]
  },
  {
   "cell_type": "code",
   "execution_count": 26,
   "metadata": {
    "id": "MWKTHnjqIA2h"
   },
   "outputs": [],
   "source": [
    "# Convert food dataset to nutritional_db format\n",
    "nutritional_db = {}\n",
    "for _, row in food_data.iterrows():\n",
    "    food_name = row['Description']\n",
    "    nutritional_db[food_name] = {\n",
    "        'calories': float(row['Data.Kilocalories']) if pd.notna(row['Data.Kilocalories']) else 0.0,\n",
    "        'protein': float(row['Data.Protein']) if pd.notna(row['Data.Protein']) else 0.0,\n",
    "        'carbs': float(row['Data.Carbohydrate']) if pd.notna(row['Data.Carbohydrate']) else 0.0,\n",
    "        'fat': float(row['Data.Fat.Total Lipid']) if pd.notna(row['Data.Fat.Total Lipid']) else 0.0,\n",
    "        'tags': infer_tags(row),\n",
    "        'portion_size': float(row['Data.Household Weights.1st Household Weight']) if pd.notna(row['Data.Household Weights.1st Household Weight']) else 100.0,\n",
    "        'portion_description': str(row['Data.Household Weights.1st Household Weight Description']) if pd.notna(row['Data.Household Weights.1st Household Weight Description']) else '100g'\n",
    "    }"
   ]
  },
  {
   "cell_type": "code",
   "execution_count": 27,
   "metadata": {
    "id": "HuyH3MFUIEfJ"
   },
   "outputs": [],
   "source": [
    "@dataclass\n",
    "class UserProfile:\n",
    "    name: str\n",
    "    age: int\n",
    "    weight: float\n",
    "    height: float\n",
    "    gender: str\n",
    "    activity_level: str\n",
    "    goal: str\n",
    "    restrictions: List[str]\n",
    "    conditions: List[str]\n",
    "\n",
    "def calculate_bmr(user: UserProfile) -> float:\n",
    "    if user.gender.lower() == 'male':\n",
    "        bmr = 10 * user.weight + 6.25 * user.height - 5 * user.age + 5\n",
    "    else:\n",
    "        bmr = 10 * user.weight + 6.25 * user.height - 5 * user.age - 161\n",
    "    return bmr"
   ]
  },
  {
   "cell_type": "code",
   "execution_count": 28,
   "metadata": {
    "id": "ZRlpNi18IPTC"
   },
   "outputs": [],
   "source": [
    "def calculate_daily_calories(user: UserProfile) -> float:\n",
    "    activity_multipliers = {\n",
    "        \"sedentary\": 1.2,\n",
    "        \"light\": 1.375,\n",
    "        \"moderate\": 1.55,\n",
    "        \"active\": 1.725\n",
    "    }\n",
    "    multiplier = activity_multipliers.get(user.activity_level.lower(), 1.2)\n",
    "    base_calories = calculate_bmr(user) * multiplier\n",
    "    if user.goal.lower() == \"weight loss\":\n",
    "        return base_calories - 500\n",
    "    elif user.goal.lower() == \"muscle gain\":\n",
    "        return base_calories + 500\n",
    "    else:\n",
    "        return base_calories"
   ]
  },
  {
   "cell_type": "code",
   "execution_count": 38,
   "metadata": {
    "id": "Ywh20qijITQJ"
   },
   "outputs": [],
   "source": [
    "def filter_foods(user: UserProfile) -> List[str]:\n",
    "    allowed_foods = []\n",
    "    for food, details in nutritional_db.items():\n",
    "        # Check dietary restrictions\n",
    "        if user.restrictions:\n",
    "            if not all(r.lower() in details['tags'] for r in user.restrictions if r.lower() in ['vegan', 'vegetarian', 'low_sodium', 'low_carb']):\n",
    "                continue\n",
    "            if any(r.lower() in details['tags'] for r in user.restrictions if r.lower() in ['peanuts', 'soy']):\n",
    "                continue\n",
    "        # Check health conditions\n",
    "        if \"diabetes\" in [c.lower() for c in user.conditions] and details[\"carbs\"] > 25:\n",
    "            continue\n",
    "        if \"cardiovascular\" in [c.lower() for c in user.conditions] and details[\"fat\"] > 15:\n",
    "            continue\n",
    "        allowed_foods.append(food)\n",
    "    return allowed_foods"
   ]
  },
  {
   "cell_type": "code",
   "execution_count": 39,
   "metadata": {
    "id": "RM-vr9quIW_R"
   },
   "outputs": [],
   "source": [
    "def generate_meal_plan(user: UserProfile) -> Dict[str, Dict[str, float]]:\n",
    "    daily_calories = calculate_daily_calories(user)\n",
    "    allowed_foods = filter_foods(user)\n",
    "    meal_plan = {}\n",
    "    total = {\"calories\": 0.0, \"protein\": 0.0, \"carbs\": 0.0, \"fat\": 0.0}\n",
    "\n",
    "    attempts = 0\n",
    "    max_attempts = 100\n",
    "\n",
    "    while total['calories'] < daily_calories - 100 and allowed_foods and attempts < max_attempts:\n",
    "        food = random.choice(allowed_foods)\n",
    "        attempts += 1\n",
    "        if food in meal_plan:\n",
    "            continue\n",
    "        # Adjust nutrients based on portion size (per 100g to portion size)\n",
    "        portion_factor = nutritional_db[food]['portion_size'] / 100.0\n",
    "        meal_plan[food] = {\n",
    "            'calories': nutritional_db[food]['calories'] * portion_factor,\n",
    "            'protein': nutritional_db[food]['protein'] * portion_factor,\n",
    "            'carbs': nutritional_db[food]['carbs'] * portion_factor,\n",
    "            'fat': nutritional_db[food]['fat'] * portion_factor,\n",
    "            'portion': nutritional_db[food]['tags'],\n",
    "            'portion_size': nutritional_db[food]['portion_size'],\n",
    "            'portion_description': nutritional_db[food]['portion_description']\n",
    "        }\n",
    "        for key in total:\n",
    "            total[key] += meal_plan[food].get(key, 0.0)\n",
    "\n",
    "    return {\"meals\": meal_plan, \"totals\": total, \"goal\": daily_calories}"
   ]
  },
  {
   "cell_type": "code",
   "execution_count": 44,
   "metadata": {
    "id": "b4-Ztqu9Ib1i"
   },
   "outputs": [],
   "source": [
    "def create_diet_plan(patient_id: str, user_data: dict) -> Dict:\n",
    "    # Fetch patient data\n",
    "    patient = patient_data[patient_data['Patient_ID'] == patient_id]\n",
    "    if patient.empty:\n",
    "        return {\"error\": [\"Invalid Patient ID\"]}\n"
   ]
  },
  {
   "cell_type": "code",
   "execution_count": 45,
   "metadata": {},
   "outputs": [],
   "source": [
    "# Add proper error handling and data validation\n",
    "def create_diet_plan(patient_id: str, user_data: dict) -> Dict:\n",
    "    try:\n",
    "        # Fetch patient data\n",
    "        patient = patient_data[patient_data['Patient_ID'] == patient_id]\n",
    "        if patient.empty:\n",
    "            return {\"error\": [\"Invalid Patient ID\"]}\n",
    "        \n",
    "        # Debug: Check what data we're working with\n",
    "        # print(f\"Patient found: {patient.iloc[0]}\")\n",
    "        \n",
    "        # Map patient data to UserProfile - FIXED: Handle NaN values properly\n",
    "        restrictions = []\n",
    "        \n",
    "        # Handle Dietary_Restrictions\n",
    "        dietary_restrictions = patient['Dietary_Restrictions'].iloc[0]\n",
    "        if pd.notna(dietary_restrictions) and str(dietary_restrictions) != \"None\" and str(dietary_restrictions) != \"nan\":\n",
    "            restrictions.append(str(dietary_restrictions).lower())\n",
    "        \n",
    "        # Handle Allergies\n",
    "        allergies = patient['Allergies'].iloc[0]\n",
    "        if pd.notna(allergies) and str(allergies) != \"None\" and str(allergies) != \"nan\":\n",
    "            restrictions.append(str(allergies).lower())\n",
    "        \n",
    "        # Handle Diet_Recommendation\n",
    "        diet_recommendation = patient['Diet_Recommendation'].iloc[0]\n",
    "        if pd.notna(diet_recommendation) and str(diet_recommendation).lower() in [\"low_sugar\", \"low_carb\"]:\n",
    "            restrictions.append(str(diet_recommendation).lower())\n",
    "\n",
    "        conditions = []\n",
    "        # Handle Disease_Type\n",
    "        disease_type = patient['Disease_Type'].iloc[0]\n",
    "        if pd.notna(disease_type) and str(disease_type).lower() in [\"diabetes\", \"cardiovascular\"]:\n",
    "            conditions.append(str(disease_type).lower())\n",
    "\n",
    "        # Merge with user-provided restrictions and conditions\n",
    "        user_restrictions = user_data.get('restrictions', [])\n",
    "        user_conditions = user_data.get('conditions', [])\n",
    "        \n",
    "        all_restrictions = list(set(restrictions + user_restrictions))\n",
    "        all_conditions = list(set(conditions + user_conditions))\n",
    "\n",
    "        user_data.update({\n",
    "            \"restrictions\": all_restrictions,\n",
    "            \"conditions\": all_conditions,\n",
    "        })\n",
    "\n",
    "        user = UserProfile(**user_data)\n",
    "        return generate_meal_plan(user)\n",
    "        \n",
    "    except Exception as e:\n",
    "        return {\"error\": [f\"Error processing patient data: {str(e)}\"]}"
   ]
  },
  {
   "cell_type": "code",
   "execution_count": 46,
   "metadata": {},
   "outputs": [],
   "source": [
    "def gradio_interface(patient_id, name, age, weight, height, gender, activity_level, goal, restrictions, conditions):\n",
    "    try:\n",
    "        user_data = {\n",
    "            \"name\": name,\n",
    "            \"age\": int(age),\n",
    "            \"weight\": float(weight),\n",
    "            \"height\": float(height),\n",
    "            \"gender\": gender,\n",
    "            \"activity_level\": activity_level,\n",
    "            \"goal\": goal,\n",
    "            \"restrictions\": [r.strip().lower() for r in restrictions.split(',') if r.strip()],\n",
    "            \"conditions\": [c.strip().lower() for c in conditions.split(',') if c.strip()]\n",
    "        }\n",
    "        \n",
    "        result = create_diet_plan(patient_id, user_data)\n",
    "        \n",
    "        if \"error\" in result:\n",
    "            return f\"❌ Error\\n\\n{result['error'][0]}\"\n",
    "        \n",
    "        # Create markdown output\n",
    "        markdown_output = f\"\"\"\n",
    "🍽️ PERSONALIZED DIET PLAN\n",
    "\n",
    "👤 Patient Information\n",
    "- Name: {user_data['name']}\n",
    "- Daily Calorie Goal: {result['goal']:.0f} calories\n",
    "\n",
    "📋 Recommended Meals\n",
    "\"\"\"\n",
    "        \n",
    "        meal_number = 1\n",
    "        for food, details in result['meals'].items():\n",
    "            markdown_output += f\"\"\"\n",
    "{meal_number}. {food}\n",
    "- Portion: {details['portion_size']:.1f}g ({details['portion_description']})\n",
    "- Calories: {details['calories']:.0f} kcal\n",
    "- Protein: {details['protein']:.1f}g\n",
    "- Carbs: {details['carbs']:.1f}g\n",
    "- Fat: {details['fat']:.1f}g\n",
    "\"\"\"\n",
    "            meal_number += 1\n",
    "        \n",
    "        markdown_output += f\"\"\"\n",
    "📊 Daily Nutrition Totals\n",
    "- Total Calories: {result['totals']['calories']:.0f} kcal\n",
    "- Total Protein: {result['totals']['protein']:.1f}g\n",
    "- Total Carbs: {result['totals']['carbs']:.1f}g\n",
    "- Total Fat: {result['totals']['fat']:.1f}g\n",
    "\n",
    "💡 Nutritional Insights\n",
    "\"\"\"\n",
    "        \n",
    "        # Add nutritional insights\n",
    "        protein_percent = (result['totals']['protein'] * 4 / result['totals']['calories']) * 100\n",
    "        carbs_percent = (result['totals']['carbs'] * 4 / result['totals']['calories']) * 100\n",
    "        fat_percent = (result['totals']['fat'] * 9 / result['totals']['calories']) * 100\n",
    "        \n",
    "        markdown_output += f\"\"\"\n",
    "- Macronutrient Distribution:\n",
    "  - Protein: {protein_percent:.1f}%\n",
    "  - Carbohydrates: {carbs_percent:.1f}%\n",
    "  - Fat: {fat_percent:.1f}%\n",
    "\n",
    "- Recommendations:\n",
    "  - {'✅ Excellent protein intake' if protein_percent > 20 else '⚠️ Consider more protein'}\n",
    "  - {'✅ Balanced carbs' if 40 <= carbs_percent <= 60 else '⚠️ Adjust carb intake'}\n",
    "  - {'✅ Healthy fat levels' if 20 <= fat_percent <= 35 else '⚠️ Monitor fat intake'}\n",
    "\"\"\"\n",
    "        \n",
    "        return markdown_output\n",
    "        \n",
    "    except Exception as e:\n",
    "        return f\"❌ Error\\n\\n{str(e)}\"\n",
    "\n"
   ]
  },
  {
   "cell_type": "code",
   "execution_count": 47,
   "metadata": {},
   "outputs": [],
   "source": [
    "def filter_foods(user: UserProfile) -> List[str]:\n",
    "    allowed_foods = []\n",
    "    for food, details in nutritional_db.items():\n",
    "        # Skip foods with missing nutritional data\n",
    "        if any(pd.isna(val) for val in [details['calories'], details['protein'], details['carbs'], details['fat']]):\n",
    "            continue\n",
    "            \n",
    "        # Check dietary restrictions\n",
    "        skip_food = False\n",
    "        \n",
    "        # Handle vegan/vegetarian restrictions\n",
    "        if 'vegan' in user.restrictions and ('dairy' in details['tags'] or 'meat' in details['tags']):\n",
    "            skip_food = True\n",
    "        elif 'vegetarian' in user.restrictions and 'meat' in details['tags']:\n",
    "            skip_food = True\n",
    "            \n",
    "        # Handle allergy restrictions\n",
    "        for restriction in user.restrictions:\n",
    "            if restriction in ['peanuts', 'soy'] and restriction in details['tags']:\n",
    "                skip_food = True\n",
    "                break\n",
    "                \n",
    "        # Handle low sodium/carb/sugar restrictions\n",
    "        if 'low_sodium' in user.restrictions and not any('low_sodium' in tag for tag in details['tags']):\n",
    "            skip_food = True\n",
    "        if 'low_carb' in user.restrictions and not any('low_carb' in tag for tag in details['tags']):\n",
    "            skip_food = True\n",
    "        if 'low_sugar' in user.restrictions and not any('low_sugar' in tag for tag in details['tags']):\n",
    "            skip_food = True\n",
    "            \n",
    "        # Check health conditions\n",
    "        if \"diabetes\" in user.conditions and details[\"carbs\"] > 25:\n",
    "            skip_food = True\n",
    "        if \"cardiovascular\" in user.conditions and details[\"fat\"] > 15:\n",
    "            skip_food = True\n",
    "            \n",
    "        if not skip_food:\n",
    "            allowed_foods.append(food)\n",
    "            \n",
    "    return allowed_foods"
   ]
  },
  {
   "cell_type": "code",
   "execution_count": null,
   "metadata": {},
   "outputs": [
    {
     "name": "stdout",
     "output_type": "stream",
     "text": [
      "* Running on local URL:  http://127.0.0.1:7870\n",
      "* Running on public URL: https://9ceadd87a3e8d1c50f.gradio.live\n",
      "\n",
      "This share link expires in 1 week. For free permanent hosting and GPU upgrades, run `gradio deploy` from the terminal in the working directory to deploy to Hugging Face Spaces (https://huggingface.co/spaces)\n"
     ]
    },
    {
     "data": {
      "text/html": [
       "<div><iframe src=\"https://9ceadd87a3e8d1c50f.gradio.live\" width=\"100%\" height=\"500\" allow=\"autoplay; camera; microphone; clipboard-read; clipboard-write;\" frameborder=\"0\" allowfullscreen></iframe></div>"
      ],
      "text/plain": [
       "<IPython.core.display.HTML object>"
      ]
     },
     "metadata": {},
     "output_type": "display_data"
    },
    {
     "name": "stdout",
     "output_type": "stream",
     "text": [
      "Using existing dataset file at: .gradio\\flagged\\dataset4.csv\n"
     ]
    }
   ],
   "source": [
    "# Create a more robust Gradio interface\n",
    "demo = gr.Interface(\n",
    "    fn=gradio_interface,\n",
    "    inputs=[\n",
    "        gr.Textbox(label=\"Patient ID\", placeholder=\"e.g., P0001\", value=\"P0001\"),\n",
    "        gr.Textbox(label=\"Name\", value=\"John Doe\"),\n",
    "        gr.Number(label=\"Age\", value=30),\n",
    "        gr.Number(label=\"Weight (kg)\", value=70),\n",
    "        gr.Number(label=\"Height (cm)\", value=175),\n",
    "        gr.Radio([\"Male\", \"Female\"], label=\"Gender\", value=\"Male\"),\n",
    "        gr.Dropdown([\"Sedentary\", \"Light\", \"Moderate\", \"Active\"], label=\"Activity Level\", value=\"Moderate\"),\n",
    "        gr.Dropdown([\"Weight Loss\", \"Maintain\", \"Muscle Gain\"], label=\"Fitness Goal\", value=\"Maintain\"),\n",
    "        gr.Textbox(label=\"Additional Dietary Restrictions (comma-separated)\", \n",
    "                  placeholder=\"e.g., vegan, low_sodium\", value=\"\"),\n",
    "        gr.Textbox(label=\"Additional Health Conditions (comma-separated)\", \n",
    "                  placeholder=\"e.g., diabetes, cardiovascular\", value=\"\")\n",
    "    ],\n",
    "    outputs=gr.Textbox(label=\"Personalized Diet Plan\"),\n",
    "    title=\"AI Diet Assistant\",\n",
    "    description=\"Get a personalized diet plan based on your health profile and goals.\"\n",
    ")\n",
    "\n",
    "if __name__ == \"__main__\":\n",
    "    demo.launch(inline=True, share=True)"
   ]
  },
  {
   "cell_type": "code",
   "execution_count": null,
   "metadata": {},
   "outputs": [],
   "source": []
  }
 ],
 "metadata": {
  "colab": {
   "provenance": []
  },
  "kernelspec": {
   "display_name": ".venv",
   "language": "python",
   "name": "python3"
  },
  "language_info": {
   "codemirror_mode": {
    "name": "ipython",
    "version": 3
   },
   "file_extension": ".py",
   "mimetype": "text/x-python",
   "name": "python",
   "nbconvert_exporter": "python",
   "pygments_lexer": "ipython3",
   "version": "3.12.10"
  }
 },
 "nbformat": 4,
 "nbformat_minor": 4
}
